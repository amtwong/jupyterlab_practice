{
 "cells": [
  {
   "cell_type": "markdown",
   "id": "07d710b6-b43c-40ce-a24b-13828ca79e18",
   "metadata": {},
   "source": [
    "# Amanda Wong\n",
    "Notebook for assignment 7"
   ]
  },
  {
   "cell_type": "code",
   "execution_count": 1,
   "id": "02bf69ad-f778-45e3-b2eb-a693d83a3b91",
   "metadata": {},
   "outputs": [
    {
     "data": {
      "text/plain": [
       "5.0"
      ]
     },
     "execution_count": 1,
     "metadata": {},
     "output_type": "execute_result"
    }
   ],
   "source": [
    "def compute_mean(num_list):\n",
    "    \"\"\"Calculates the mean of a list of numbers\"\"\"\n",
    "    return sum(num_list) / len(num_list)\n",
    "\n",
    "compute_mean([2, 4, 6, 8])"
   ]
  },
  {
   "cell_type": "markdown",
   "id": "47911b6c-c2f0-4a98-a85f-0632747f59dd",
   "metadata": {},
   "source": [
    "# $\\bar x$ = $\\frac{x_{1}+x_{2}+\\cdots+x_{n}}{n}$ = $\\frac{1}{n}$$\\left(\\sum\\limits_{i=1}^n x_i\\right)$"
   ]
  }
 ],
 "metadata": {
  "kernelspec": {
   "display_name": "Python 3 (ipykernel)",
   "language": "python",
   "name": "python3"
  },
  "language_info": {
   "codemirror_mode": {
    "name": "ipython",
    "version": 3
   },
   "file_extension": ".py",
   "mimetype": "text/x-python",
   "name": "python",
   "nbconvert_exporter": "python",
   "pygments_lexer": "ipython3",
   "version": "3.10.9"
  }
 },
 "nbformat": 4,
 "nbformat_minor": 5
}
